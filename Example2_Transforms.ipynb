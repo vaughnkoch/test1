{
 "cells": [
  {
   "cell_type": "markdown",
   "metadata": {},
   "source": [
    "## Welcome to Datamode!\n",
    "\n",
    "Datamode is a free, open source project to help you reshape data for machine learning.\n",
    "\n",
    "See more examples and try out our private beta with a one-line pip install.\n",
    "https://www.datamode.com\n",
    "\n",
    "- Run the example below to explore our movies dataset.\n",
    "- Look at our [transforms list](https://datamode.readthedocs.io/en/latest/transforms.html) and add one to the end of the list.\n",
    "- Then re-run the code cell.\n",
    "\n",
    "[Back to Step 1](./Example1_Quickshow.ipynb)\n"
   ]
  },
  {
   "cell_type": "code",
   "execution_count": null,
   "metadata": {},
   "outputs": [],
   "source": [
    "## Run this cell! ##\n",
    "\n",
    "from datamode.interface import *\n",
    "\n",
    "tcon = run_transforms([\n",
    "  SourceFile('http://code.datamode.com/datamode/datasets/raw/master/movies.csv', sample_ratio=1),\n",
    "  CanonicalizeDate('release_date'),\n",
    "  ProcessNones('@number'),\n",
    "])"
   ]
  }
 ],
 "metadata": {
  "kernelspec": {
   "display_name": "Python 3",
   "language": "python",
   "name": "python3"
  },
  "language_info": {
   "codemirror_mode": {
    "name": "ipython",
    "version": 3
   },
   "file_extension": ".py",
   "mimetype": "text/x-python",
   "name": "python",
   "nbconvert_exporter": "python",
   "pygments_lexer": "ipython3",
   "version": "3.7.0"
  }
 },
 "nbformat": 4,
 "nbformat_minor": 2
}
