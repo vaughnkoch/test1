{
 "cells": [
  {
   "cell_type": "markdown",
   "metadata": {},
   "source": [
    "## Welcome to Datamode!\n",
    "Datamode is a free, open source project to help you reshape data for machine learning.\n",
    "\n",
    "See more examples and try out our private beta with a one-line pip install:\n",
    "\n",
    "https://www.datamode.com\n",
    "\n",
    "Run the example cell below to explore our movies dataset.\n",
    "\n",
    "- Filter your data by clicking on a histogram bar.\n",
    "- See how your data is processed by clicking on one of the transforms in the top left.\n",
    "- Get easy charts with Multicol Visualization in the upper middle - just pick which columns to use.\n",
    "- Look at which values are nulls by clicking on the red bar in the column header.\n",
    "\n",
    "[Step 2: Pick your transforms](./Example2_Transforms.ipynb)\n"
   ]
  },
  {
   "cell_type": "code",
   "execution_count": null,
   "metadata": {},
   "outputs": [],
   "source": [
    "## Run this cell! ##\n",
    "\n",
    "from datamode.interface import quickshow\n",
    "quickshow('http://code.datamode.com/datamode/datasets/raw/master/movies.csv')"
   ]
  }
 ],
 "metadata": {
  "kernelspec": {
   "display_name": "Python 3",
   "language": "python",
   "name": "python3"
  },
  "language_info": {
   "codemirror_mode": {
    "name": "ipython",
    "version": 3
   },
   "file_extension": ".py",
   "mimetype": "text/x-python",
   "name": "python",
   "nbconvert_exporter": "python",
   "pygments_lexer": "ipython3",
   "version": "3.7.0"
  }
 },
 "nbformat": 4,
 "nbformat_minor": 2
}
